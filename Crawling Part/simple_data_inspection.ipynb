{
 "cells": [
  {
   "cell_type": "markdown",
   "metadata": {},
   "source": [
    "# Install necessary libraries"
   ]
  },
  {
   "cell_type": "code",
   "execution_count": 43,
   "metadata": {},
   "outputs": [
    {
     "name": "stdout",
     "output_type": "stream",
     "text": [
      "Requirement already satisfied: voila in /home/kimdaegun/anaconda3/envs/boostcourse/lib/python3.9/site-packages (0.3.5)\n",
      "Requirement already satisfied: jupyter-client<8,>=6.1.3 in /home/kimdaegun/anaconda3/envs/boostcourse/lib/python3.9/site-packages (from voila) (6.1.12)\n",
      "Requirement already satisfied: websockets>=9.0 in /home/kimdaegun/anaconda3/envs/boostcourse/lib/python3.9/site-packages (from voila) (10.3)\n",
      "Requirement already satisfied: traitlets<6,>=5.0.3 in /home/kimdaegun/anaconda3/envs/boostcourse/lib/python3.9/site-packages (from voila) (5.1.1)\n",
      "Requirement already satisfied: jupyterlab-server<3,>=2.3.0 in /home/kimdaegun/anaconda3/envs/boostcourse/lib/python3.9/site-packages (from voila) (2.13.0)\n",
      "Requirement already satisfied: jupyter-server<2.0.0,>=0.3.0 in /home/kimdaegun/anaconda3/envs/boostcourse/lib/python3.9/site-packages (from voila) (1.17.0)\n",
      "Requirement already satisfied: nbconvert<7,>=6.4.5 in /home/kimdaegun/anaconda3/envs/boostcourse/lib/python3.9/site-packages (from voila) (6.5.0)\n",
      "Requirement already satisfied: nbclient<0.6,>=0.4.0 in /home/kimdaegun/anaconda3/envs/boostcourse/lib/python3.9/site-packages (from voila) (0.5.3)\n",
      "Requirement already satisfied: pyzmq>=13 in /home/kimdaegun/anaconda3/envs/boostcourse/lib/python3.9/site-packages (from jupyter-client<8,>=6.1.3->voila) (22.3.0)\n",
      "Requirement already satisfied: python-dateutil>=2.1 in /home/kimdaegun/anaconda3/envs/boostcourse/lib/python3.9/site-packages (from jupyter-client<8,>=6.1.3->voila) (2.8.2)\n",
      "Requirement already satisfied: jupyter-core>=4.6.0 in /home/kimdaegun/anaconda3/envs/boostcourse/lib/python3.9/site-packages (from jupyter-client<8,>=6.1.3->voila) (4.9.1)\n",
      "Requirement already satisfied: tornado>=4.1 in /home/kimdaegun/anaconda3/envs/boostcourse/lib/python3.9/site-packages (from jupyter-client<8,>=6.1.3->voila) (6.1)\n",
      "Requirement already satisfied: nbformat>=5.2.0 in /home/kimdaegun/anaconda3/envs/boostcourse/lib/python3.9/site-packages (from jupyter-server<2.0.0,>=0.3.0->voila) (5.4.0)\n",
      "Requirement already satisfied: websocket-client in /home/kimdaegun/anaconda3/envs/boostcourse/lib/python3.9/site-packages (from jupyter-server<2.0.0,>=0.3.0->voila) (1.2.3)\n",
      "Requirement already satisfied: packaging in /home/kimdaegun/anaconda3/envs/boostcourse/lib/python3.9/site-packages (from jupyter-server<2.0.0,>=0.3.0->voila) (21.3)\n",
      "Requirement already satisfied: argon2-cffi in /home/kimdaegun/anaconda3/envs/boostcourse/lib/python3.9/site-packages (from jupyter-server<2.0.0,>=0.3.0->voila) (20.1.0)\n",
      "Requirement already satisfied: jinja2 in /home/kimdaegun/anaconda3/envs/boostcourse/lib/python3.9/site-packages (from jupyter-server<2.0.0,>=0.3.0->voila) (3.0.3)\n",
      "Requirement already satisfied: terminado>=0.8.3 in /home/kimdaegun/anaconda3/envs/boostcourse/lib/python3.9/site-packages (from jupyter-server<2.0.0,>=0.3.0->voila) (0.9.4)\n",
      "Requirement already satisfied: anyio<4,>=3.1.0 in /home/kimdaegun/anaconda3/envs/boostcourse/lib/python3.9/site-packages (from jupyter-server<2.0.0,>=0.3.0->voila) (3.6.1)\n",
      "Requirement already satisfied: prometheus-client in /home/kimdaegun/anaconda3/envs/boostcourse/lib/python3.9/site-packages (from jupyter-server<2.0.0,>=0.3.0->voila) (0.12.0)\n",
      "Requirement already satisfied: Send2Trash in /home/kimdaegun/anaconda3/envs/boostcourse/lib/python3.9/site-packages (from jupyter-server<2.0.0,>=0.3.0->voila) (1.8.0)\n",
      "Requirement already satisfied: sniffio>=1.1 in /home/kimdaegun/anaconda3/envs/boostcourse/lib/python3.9/site-packages (from anyio<4,>=3.1.0->jupyter-server<2.0.0,>=0.3.0->voila) (1.2.0)\n",
      "Requirement already satisfied: idna>=2.8 in /home/kimdaegun/anaconda3/envs/boostcourse/lib/python3.9/site-packages (from anyio<4,>=3.1.0->jupyter-server<2.0.0,>=0.3.0->voila) (3.3)\n",
      "Requirement already satisfied: babel in /home/kimdaegun/anaconda3/envs/boostcourse/lib/python3.9/site-packages (from jupyterlab-server<3,>=2.3.0->voila) (2.9.1)\n",
      "Requirement already satisfied: json5 in /home/kimdaegun/anaconda3/envs/boostcourse/lib/python3.9/site-packages (from jupyterlab-server<3,>=2.3.0->voila) (0.9.8)\n",
      "Requirement already satisfied: jsonschema>=3.0.1 in /home/kimdaegun/anaconda3/envs/boostcourse/lib/python3.9/site-packages (from jupyterlab-server<3,>=2.3.0->voila) (3.2.0)\n",
      "Requirement already satisfied: importlib-metadata>=3.6 in /home/kimdaegun/anaconda3/envs/boostcourse/lib/python3.9/site-packages (from jupyterlab-server<3,>=2.3.0->voila) (4.8.2)\n",
      "Requirement already satisfied: requests in /home/kimdaegun/anaconda3/envs/boostcourse/lib/python3.9/site-packages (from jupyterlab-server<3,>=2.3.0->voila) (2.27.1)\n",
      "Requirement already satisfied: zipp>=0.5 in /home/kimdaegun/anaconda3/envs/boostcourse/lib/python3.9/site-packages (from importlib-metadata>=3.6->jupyterlab-server<3,>=2.3.0->voila) (3.7.0)\n",
      "Requirement already satisfied: MarkupSafe>=2.0 in /home/kimdaegun/anaconda3/envs/boostcourse/lib/python3.9/site-packages (from jinja2->jupyter-server<2.0.0,>=0.3.0->voila) (2.0.1)\n",
      "Requirement already satisfied: setuptools in /home/kimdaegun/anaconda3/envs/boostcourse/lib/python3.9/site-packages (from jsonschema>=3.0.1->jupyterlab-server<3,>=2.3.0->voila) (58.0.4)\n",
      "Requirement already satisfied: six>=1.11.0 in /home/kimdaegun/anaconda3/envs/boostcourse/lib/python3.9/site-packages (from jsonschema>=3.0.1->jupyterlab-server<3,>=2.3.0->voila) (1.16.0)\n",
      "Requirement already satisfied: pyrsistent>=0.14.0 in /home/kimdaegun/anaconda3/envs/boostcourse/lib/python3.9/site-packages (from jsonschema>=3.0.1->jupyterlab-server<3,>=2.3.0->voila) (0.18.0)\n",
      "Requirement already satisfied: attrs>=17.4.0 in /home/kimdaegun/anaconda3/envs/boostcourse/lib/python3.9/site-packages (from jsonschema>=3.0.1->jupyterlab-server<3,>=2.3.0->voila) (21.2.0)\n",
      "Requirement already satisfied: nest-asyncio in /home/kimdaegun/anaconda3/envs/boostcourse/lib/python3.9/site-packages (from nbclient<0.6,>=0.4.0->voila) (1.5.1)\n",
      "Requirement already satisfied: async-generator in /home/kimdaegun/anaconda3/envs/boostcourse/lib/python3.9/site-packages (from nbclient<0.6,>=0.4.0->voila) (1.10)\n",
      "Requirement already satisfied: tinycss2 in /home/kimdaegun/anaconda3/envs/boostcourse/lib/python3.9/site-packages (from nbconvert<7,>=6.4.5->voila) (1.1.1)\n",
      "Requirement already satisfied: beautifulsoup4 in /home/kimdaegun/anaconda3/envs/boostcourse/lib/python3.9/site-packages (from nbconvert<7,>=6.4.5->voila) (4.11.1)\n",
      "Requirement already satisfied: entrypoints>=0.2.2 in /home/kimdaegun/anaconda3/envs/boostcourse/lib/python3.9/site-packages (from nbconvert<7,>=6.4.5->voila) (0.3)\n",
      "Requirement already satisfied: defusedxml in /home/kimdaegun/anaconda3/envs/boostcourse/lib/python3.9/site-packages (from nbconvert<7,>=6.4.5->voila) (0.7.1)\n",
      "Requirement already satisfied: jupyterlab-pygments in /home/kimdaegun/anaconda3/envs/boostcourse/lib/python3.9/site-packages (from nbconvert<7,>=6.4.5->voila) (0.1.2)\n",
      "Requirement already satisfied: bleach in /home/kimdaegun/anaconda3/envs/boostcourse/lib/python3.9/site-packages (from nbconvert<7,>=6.4.5->voila) (4.1.0)\n",
      "Requirement already satisfied: pandocfilters>=1.4.1 in /home/kimdaegun/anaconda3/envs/boostcourse/lib/python3.9/site-packages (from nbconvert<7,>=6.4.5->voila) (1.4.3)\n",
      "Requirement already satisfied: mistune<2,>=0.8.1 in /home/kimdaegun/anaconda3/envs/boostcourse/lib/python3.9/site-packages (from nbconvert<7,>=6.4.5->voila) (0.8.4)\n",
      "Requirement already satisfied: pygments>=2.4.1 in /home/kimdaegun/anaconda3/envs/boostcourse/lib/python3.9/site-packages (from nbconvert<7,>=6.4.5->voila) (2.10.0)\n",
      "Requirement already satisfied: fastjsonschema in /home/kimdaegun/anaconda3/envs/boostcourse/lib/python3.9/site-packages (from nbformat>=5.2.0->jupyter-server<2.0.0,>=0.3.0->voila) (2.15.3)\n",
      "Requirement already satisfied: ptyprocess in /home/kimdaegun/anaconda3/envs/boostcourse/lib/python3.9/site-packages (from terminado>=0.8.3->jupyter-server<2.0.0,>=0.3.0->voila) (0.7.0)\n",
      "Requirement already satisfied: cffi>=1.0.0 in /home/kimdaegun/anaconda3/envs/boostcourse/lib/python3.9/site-packages (from argon2-cffi->jupyter-server<2.0.0,>=0.3.0->voila) (1.14.6)\n",
      "Requirement already satisfied: pycparser in /home/kimdaegun/anaconda3/envs/boostcourse/lib/python3.9/site-packages (from cffi>=1.0.0->argon2-cffi->jupyter-server<2.0.0,>=0.3.0->voila) (2.21)\n",
      "Requirement already satisfied: pytz>=2015.7 in /home/kimdaegun/anaconda3/envs/boostcourse/lib/python3.9/site-packages (from babel->jupyterlab-server<3,>=2.3.0->voila) (2021.3)\n",
      "Requirement already satisfied: soupsieve>1.2 in /home/kimdaegun/anaconda3/envs/boostcourse/lib/python3.9/site-packages (from beautifulsoup4->nbconvert<7,>=6.4.5->voila) (2.3.2.post1)\n",
      "Requirement already satisfied: webencodings in /home/kimdaegun/anaconda3/envs/boostcourse/lib/python3.9/site-packages (from bleach->nbconvert<7,>=6.4.5->voila) (0.5.1)\n",
      "Requirement already satisfied: pyparsing!=3.0.5,>=2.0.2 in /home/kimdaegun/anaconda3/envs/boostcourse/lib/python3.9/site-packages (from packaging->jupyter-server<2.0.0,>=0.3.0->voila) (3.0.4)\n",
      "Requirement already satisfied: charset-normalizer~=2.0.0 in /home/kimdaegun/anaconda3/envs/boostcourse/lib/python3.9/site-packages (from requests->jupyterlab-server<3,>=2.3.0->voila) (2.0.4)\n",
      "Requirement already satisfied: urllib3<1.27,>=1.21.1 in /home/kimdaegun/anaconda3/envs/boostcourse/lib/python3.9/site-packages (from requests->jupyterlab-server<3,>=2.3.0->voila) (1.26.7)\n",
      "Requirement already satisfied: certifi>=2017.4.17 in /home/kimdaegun/anaconda3/envs/boostcourse/lib/python3.9/site-packages (from requests->jupyterlab-server<3,>=2.3.0->voila) (2021.10.8)\n"
     ]
    }
   ],
   "source": [
    "!pip install voila"
   ]
  },
  {
   "cell_type": "markdown",
   "metadata": {},
   "source": [
    "# Import libraries"
   ]
  },
  {
   "cell_type": "code",
   "execution_count": 51,
   "metadata": {},
   "outputs": [],
   "source": [
    "import os\n",
    "import ipywidgets\n",
    "import numpy as np\n",
    "import random\n",
    "\n",
    "from glob import glob\n",
    "from IPython.display import Image as display_image\n",
    "from IPython.display import display, clear_output\n"
   ]
  },
  {
   "cell_type": "markdown",
   "metadata": {},
   "source": [
    "# Load images randomly"
   ]
  },
  {
   "cell_type": "code",
   "execution_count": 45,
   "metadata": {},
   "outputs": [
    {
     "data": {
      "text/plain": [
       "['./data download/crawled_data_220513/갈소원/갈소원_162.jpg',\n",
       " './data download/crawled_data_220513/샘 워싱턴/샘 워싱턴_000.jpg',\n",
       " './data download/crawled_data_220513/윌 스미스/윌 스미스_047.jpg',\n",
       " './data download/crawled_data_220513/정유미/정유미_125.jpg',\n",
       " './data download/wrong_image_220513/정진영/정진영_099.jpg']"
      ]
     },
     "execution_count": 45,
     "metadata": {},
     "output_type": "execute_result"
    }
   ],
   "source": [
    "img_paths = glob('../**/*.jpg', recursive=True) # Search image paths recursively\n",
    "random.sample(img_paths, 5)"
   ]
  },
  {
   "cell_type": "markdown",
   "metadata": {},
   "source": [
    "# Set widgets"
   ]
  },
  {
   "cell_type": "code",
   "execution_count": 89,
   "metadata": {},
   "outputs": [],
   "source": [
    "img_load_button = ipywidgets.Button(description='Load random crawled images')\n",
    "img_load_output = ipywidgets.Output()\n",
    "\n",
    "num_img_widget = ipywidgets.IntSlider(\n",
    "    value=5,\n",
    "    min=0,\n",
    "    max=20,\n",
    "    step=1,\n",
    "    orientation='horizontal',\n",
    "    description='Number of images to load'\n",
    ")\n",
    "\n",
    "\n",
    "def on_button_clicked(img_load_button):\n",
    "    global imt_list, img, content\n",
    "    with img_load_output:\n",
    "        clear_output()\n",
    "        num_img = num_img_widget.value\n",
    "        selc_img_paths = random.sample(img_paths, num_img)\n",
    "        img_nm_list = [x.split('/')[-1][:-4] for x in selc_img_paths]\n",
    "        \n",
    "        img_list = [open(path, 'rb').read() for path in selc_img_paths]\n",
    "        \n",
    "        img_spaces = [ipywidgets.Image(width=256, height=256) for _ in range(num_img)]\n",
    "        # Get image value\n",
    "        \n",
    "        content = img_list[0]\n",
    "\n",
    "        for space, name, img in zip(img_spaces, img_nm_list, img_list):\n",
    "            space.value = img\n",
    "            display(space)\n",
    "            name = name.center(30, '=')\n",
    "            print(name)\n",
    "\n",
    "        # wid = ipywidgets.HBox(img_spaces)\n",
    "        # display(wid)\n"
   ]
  },
  {
   "cell_type": "code",
   "execution_count": 90,
   "metadata": {},
   "outputs": [
    {
     "data": {
      "application/vnd.jupyter.widget-view+json": {
       "model_id": "6fe798ebf3e64a8faae77fb39c5769bc",
       "version_major": 2,
       "version_minor": 0
      },
      "text/plain": [
       "IntSlider(value=5, description='Number of images to load', max=20)"
      ]
     },
     "metadata": {},
     "output_type": "display_data"
    },
    {
     "data": {
      "application/vnd.jupyter.widget-view+json": {
       "model_id": "84f29172f10c4b519bb37d3e5919a3c5",
       "version_major": 2,
       "version_minor": 0
      },
      "text/plain": [
       "Button(description='Load random crawled images', style=ButtonStyle())"
      ]
     },
     "metadata": {},
     "output_type": "display_data"
    },
    {
     "data": {
      "application/vnd.jupyter.widget-view+json": {
       "model_id": "dc744c6cdf76446db0aa945000642429",
       "version_major": 2,
       "version_minor": 0
      },
      "text/plain": [
       "Output()"
      ]
     },
     "metadata": {},
     "output_type": "display_data"
    }
   ],
   "source": [
    "img_load_button.on_click(on_button_clicked)\n",
    "\n",
    "display(num_img_widget, img_load_button, img_load_output)"
   ]
  },
  {
   "cell_type": "code",
   "execution_count": null,
   "metadata": {},
   "outputs": [],
   "source": []
  }
 ],
 "metadata": {
  "interpreter": {
   "hash": "d4d1e4263499bec80672ea0156c357c1ee493ec2b1c70f0acce89fc37c4a6abe"
  },
  "kernelspec": {
   "display_name": "Python ('main')",
   "language": "python",
   "name": "python3"
  },
  "language_info": {
   "codemirror_mode": {
    "name": "ipython",
    "version": 3
   },
   "file_extension": ".py",
   "mimetype": "text/x-python",
   "name": "python",
   "nbconvert_exporter": "python",
   "pygments_lexer": "ipython3",
   "version": "3.9.7"
  },
  "orig_nbformat": 4
 },
 "nbformat": 4,
 "nbformat_minor": 2
}
