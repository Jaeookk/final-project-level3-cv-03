{
 "cells": [
  {
   "cell_type": "markdown",
   "id": "d17fea6e-fb8e-4fc8-a519-7d53e8f3d10c",
   "metadata": {},
   "source": [
    "# Voila를 이용한 프로젝트 시각화"
   ]
  },
  {
   "cell_type": "code",
   "execution_count": 9,
   "id": "8fb71e1a-6c88-41af-bb3d-670b4de1ae58",
   "metadata": {
    "tags": []
   },
   "outputs": [],
   "source": [
    "import os\n",
    "import glob\n",
    "import numpy as np\n",
    "import math\n",
    "import time\n",
    "import random\n",
    "from PIL import Image\n",
    "import cv2\n",
    "import io\n",
    "import matplotlib.pyplot as plt\n",
    "from tqdm.auto import tqdm\n",
    "import pandas as pd\n",
    "import warnings \n",
    "warnings.filterwarnings('ignore')\n",
    "\n",
    "import torch\n",
    "import torch.nn as nn\n",
    "import torch.nn.functional as F\n",
    "import torchvision\n",
    "import albumentations as A\n",
    "from albumentations.pytorch import ToTensorV2\n",
    "\n",
    "import ipywidgets as widgets\n",
    "from IPython.display import display"
   ]
  },
  {
   "cell_type": "code",
   "execution_count": 12,
   "id": "ab6dab78-0799-4f2e-ac1a-65a360007811",
   "metadata": {},
   "outputs": [
    {
     "name": "stdout",
     "output_type": "stream",
     "text": [
      "\n"
     ]
    }
   ],
   "source": [
    "## model 불러오기\n",
    "saved_path = './Model Part/data/saved/small_efficientnet_b7/epoch_20.pt'\n",
    "\n",
    "## train 한대로 리스트를 정의해주세요.\n",
    "celeb_list = [\n",
    "    '공유', '권나라', '문채원', '박하선', '배두나', '신민아', '신성록', '안재현', '여진구', '유아인',\n",
    "    '이다희', '이병헌', '이선균', '이시영', '전미도', '정은지', '조정석', '차승원', '한선화', '현빈',\n",
    "]\n",
    "\n",
    "device = torch.device('cuda' if torch.cuda.is_available() else 'cpu')\n",
    "\n",
    "## train 한대로 모델을 정의해주세요\n",
    "model = torchvision.models.efficientnet_b7(pretrained = False)\n",
    "model.classifier[1] = nn.Linear(in_features=2560, out_features=len(celeb_list), bias=True)\n",
    "\n",
    "model.load_state_dict(torch.load(saved_path))\n",
    "model.to(device)\n",
    "model.eval()\n",
    "print('')"
   ]
  },
  {
   "cell_type": "code",
   "execution_count": 13,
   "id": "97dda707-52ee-4cc2-a8a8-f2d6552c749e",
   "metadata": {},
   "outputs": [],
   "source": [
    "import albumentations as A\n",
    "from albumentations.pytorch import ToTensorV2\n",
    "\n",
    "test_transform = A.Compose([\n",
    "                            A.Resize(256,256),\n",
    "                            ToTensorV2()\n",
    "                            ])\n",
    "\n",
    "def get_prediction(model, content):\n",
    "    global img\n",
    "    # img = cv2.imdecode(encoded_img, cv2.IMREAD_COLOR)\n",
    "    img_ = np.frombuffer(content, dtype=np.uint8)\n",
    "    img = cv2.imdecode(img_, cv2.IMREAD_COLOR)\n",
    "    \n",
    "    img = cv2.cvtColor(img, cv2.COLOR_BGR2RGB).astype(np.float32)\n",
    "    img /= 255.0\n",
    "    \n",
    "    transformed = test_transform(image=img)\n",
    "    img = transformed['image']\n",
    "    img = img.to(device)\n",
    "    img = img.unsqueeze(0)\n",
    "    \n",
    "    pred = model(img)\n",
    "    pred = pred.to('cpu').argmax()\n",
    "    \n",
    "    return pred"
   ]
  },
  {
   "cell_type": "code",
   "execution_count": 14,
   "id": "c8ab40d1-7489-49f2-990e-ac3999ca8a9c",
   "metadata": {},
   "outputs": [],
   "source": [
    "uploader = widgets.FileUpload(\n",
    "    accept = '.jpg, .png, .jpeg',\n",
    "    multiple=False,\n",
    ")"
   ]
  },
  {
   "cell_type": "markdown",
   "id": "be7e0736-3b72-45e4-a2a1-268ed115eb80",
   "metadata": {},
   "source": [
    "---\n",
    "### 원하는 배우 이미지를 업로드 해주세요."
   ]
  },
  {
   "cell_type": "code",
   "execution_count": 15,
   "id": "7a198814-cf7c-4062-86c9-3ccbe73a644a",
   "metadata": {},
   "outputs": [
    {
     "data": {
      "application/vnd.jupyter.widget-view+json": {
       "model_id": "82de6545633c4dfda65b40c382639eac",
       "version_major": 2,
       "version_minor": 0
      },
      "text/plain": [
       "FileUpload(value={}, accept='.jpg, .png, .jpeg', description='Upload')"
      ]
     },
     "metadata": {},
     "output_type": "display_data"
    }
   ],
   "source": [
    "display(uploader)"
   ]
  },
  {
   "cell_type": "code",
   "execution_count": 16,
   "id": "cc4bcdad-792c-456c-b81f-c9c1a1076f71",
   "metadata": {},
   "outputs": [],
   "source": [
    "def on_display_click_callback(clicked_button: widgets.Button) -> None:\n",
    "    global content\n",
    "    uploaded_filename = next(iter(uploader.value))\n",
    "    content = uploader.value[uploaded_filename]['content']\n",
    "    display_image_space.value = content"
   ]
  },
  {
   "cell_type": "markdown",
   "id": "40924148-1654-402b-a73b-8a935404f944",
   "metadata": {},
   "source": [
    "---\n",
    "## 이미지를 확인해주세요.\n",
    "### 확인해야 결과를 얻을 수 있습니다."
   ]
  },
  {
   "cell_type": "code",
   "execution_count": 17,
   "id": "f12d6565-f704-4fb3-a291-e685ac652be3",
   "metadata": {
    "tags": []
   },
   "outputs": [
    {
     "data": {
      "application/vnd.jupyter.widget-view+json": {
       "model_id": "26f40de6bf504513ab9119365b60a9a7",
       "version_major": 2,
       "version_minor": 0
      },
      "text/plain": [
       "Button(description='Display Image', style=ButtonStyle())"
      ]
     },
     "metadata": {},
     "output_type": "display_data"
    },
    {
     "data": {
      "application/vnd.jupyter.widget-view+json": {
       "model_id": "62f6596b64cd4f7189a8189f20534514",
       "version_major": 2,
       "version_minor": 0
      },
      "text/plain": [
       "Image(value=b'')"
      ]
     },
     "metadata": {},
     "output_type": "display_data"
    }
   ],
   "source": [
    "display_button = widgets.Button(description=\"Display Image\")\n",
    "display_image_space = widgets.Image()\n",
    "\n",
    "display_button.on_click(on_display_click_callback)\n",
    "display(display_button, display_image_space)"
   ]
  },
  {
   "cell_type": "code",
   "execution_count": 18,
   "id": "9283954e-4afb-472b-8844-7aefb70176a5",
   "metadata": {},
   "outputs": [],
   "source": [
    "inference_button = widgets.Button(description=\"Inference!\")\n",
    "inference_output = widgets.Output(layout={'border': \"1px solid black\"})"
   ]
  },
  {
   "cell_type": "code",
   "execution_count": 19,
   "id": "b431516d-b3e7-484d-9cab-a9a06f6c1872",
   "metadata": {},
   "outputs": [],
   "source": [
    "def on_inference_click_callback(clicked_button: widgets.Button) -> None:\n",
    "    with inference_output:\n",
    "        inference_output.clear_output()\n",
    "\n",
    "        start = time.time() # 시간 측정 시작\n",
    "        output = get_prediction(model, content)\n",
    "        result = celeb_list[output]\n",
    "        print(result)\n",
    "        print(f'Inference Time : {time.time() - start:.5f} second')"
   ]
  },
  {
   "cell_type": "code",
   "execution_count": 20,
   "id": "becf959a-90a2-41d9-9f3f-20397057caa7",
   "metadata": {},
   "outputs": [],
   "source": [
    "inference_button.on_click(on_inference_click_callback)"
   ]
  },
  {
   "cell_type": "markdown",
   "id": "5755ca3c-580e-41db-b30f-828ad0bf708e",
   "metadata": {},
   "source": [
    "---\n",
    "## 결과 확인"
   ]
  },
  {
   "cell_type": "code",
   "execution_count": 21,
   "id": "45d3e5a9-fd98-4d13-9f05-6002d06c6ebd",
   "metadata": {},
   "outputs": [
    {
     "data": {
      "application/vnd.jupyter.widget-view+json": {
       "model_id": "27134e3df3654580bbc909b2ebf6115e",
       "version_major": 2,
       "version_minor": 0
      },
      "text/plain": [
       "Button(description='Inference!', style=ButtonStyle())"
      ]
     },
     "metadata": {},
     "output_type": "display_data"
    },
    {
     "data": {
      "application/vnd.jupyter.widget-view+json": {
       "model_id": "e0bf0264bfe44d18b01a97c9a9529076",
       "version_major": 2,
       "version_minor": 0
      },
      "text/plain": [
       "Output(layout=Layout(border='1px solid black'))"
      ]
     },
     "metadata": {},
     "output_type": "display_data"
    }
   ],
   "source": [
    "display(inference_button, inference_output)"
   ]
  },
  {
   "cell_type": "code",
   "execution_count": null,
   "id": "189ed909-a43a-4071-859e-dadc723b3187",
   "metadata": {},
   "outputs": [],
   "source": []
  },
  {
   "cell_type": "code",
   "execution_count": null,
   "id": "dd415ba6-79dd-44c6-b264-e09277d3f01b",
   "metadata": {},
   "outputs": [],
   "source": []
  },
  {
   "cell_type": "code",
   "execution_count": null,
   "id": "81ba24f3-67f4-4caa-af59-596918c0049c",
   "metadata": {},
   "outputs": [],
   "source": []
  }
 ],
 "metadata": {
  "kernelspec": {
   "display_name": "Python 3 (ipykernel)",
   "language": "python",
   "name": "python3"
  },
  "language_info": {
   "codemirror_mode": {
    "name": "ipython",
    "version": 3
   },
   "file_extension": ".py",
   "mimetype": "text/x-python",
   "name": "python",
   "nbconvert_exporter": "python",
   "pygments_lexer": "ipython3",
   "version": "3.8.5"
  }
 },
 "nbformat": 4,
 "nbformat_minor": 5
}
